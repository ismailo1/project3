{
 "cells": [
  {
   "cell_type": "code",
   "execution_count": 10,
   "metadata": {},
   "outputs": [],
   "source": [
    "import pandas as pd\n",
    "import numpy as np\n",
    "from sqlalchemy import create_engine\n",
    "pd.set_option('max_colwidth', 400)"
   ]
  },
  {
   "cell_type": "code",
   "execution_count": 14,
   "metadata": {},
   "outputs": [
    {
     "data": {
      "text/html": [
       "<div>\n",
       "<style scoped>\n",
       "    .dataframe tbody tr th:only-of-type {\n",
       "        vertical-align: middle;\n",
       "    }\n",
       "\n",
       "    .dataframe tbody tr th {\n",
       "        vertical-align: top;\n",
       "    }\n",
       "\n",
       "    .dataframe thead th {\n",
       "        text-align: right;\n",
       "    }\n",
       "</style>\n",
       "<table border=\"1\" class=\"dataframe\">\n",
       "  <thead>\n",
       "    <tr style=\"text-align: right;\">\n",
       "      <th></th>\n",
       "      <th>Job Title</th>\n",
       "      <th>Employment Type</th>\n",
       "      <th>Experience Level</th>\n",
       "      <th>Expertise Level</th>\n",
       "      <th>Salary</th>\n",
       "      <th>Salary Currency</th>\n",
       "      <th>Company Location</th>\n",
       "      <th>Salary in USD</th>\n",
       "      <th>Employee Residence</th>\n",
       "      <th>Company Size</th>\n",
       "      <th>Year</th>\n",
       "    </tr>\n",
       "  </thead>\n",
       "  <tbody>\n",
       "    <tr>\n",
       "      <th>0</th>\n",
       "      <td>Staff Data Analyst</td>\n",
       "      <td>Contract</td>\n",
       "      <td>Entry</td>\n",
       "      <td>Junior</td>\n",
       "      <td>60000</td>\n",
       "      <td>Canadian Dollar</td>\n",
       "      <td>Canada</td>\n",
       "      <td>44753</td>\n",
       "      <td>Canada</td>\n",
       "      <td>Large</td>\n",
       "      <td>2020</td>\n",
       "    </tr>\n",
       "    <tr>\n",
       "      <th>1</th>\n",
       "      <td>AI Engineer</td>\n",
       "      <td>Full-Time</td>\n",
       "      <td>Entry</td>\n",
       "      <td>Junior</td>\n",
       "      <td>35000</td>\n",
       "      <td>United States Dollar</td>\n",
       "      <td>Germany</td>\n",
       "      <td>35000</td>\n",
       "      <td>Croatia</td>\n",
       "      <td>Medium</td>\n",
       "      <td>2023</td>\n",
       "    </tr>\n",
       "    <tr>\n",
       "      <th>2</th>\n",
       "      <td>AI Developer</td>\n",
       "      <td>Full-Time</td>\n",
       "      <td>Senior</td>\n",
       "      <td>Expert</td>\n",
       "      <td>50000</td>\n",
       "      <td>Euro</td>\n",
       "      <td>Italy</td>\n",
       "      <td>53984</td>\n",
       "      <td>Italy</td>\n",
       "      <td>Small</td>\n",
       "      <td>2023</td>\n",
       "    </tr>\n",
       "    <tr>\n",
       "      <th>3</th>\n",
       "      <td>Machine Learning Engineer</td>\n",
       "      <td>Full-Time</td>\n",
       "      <td>Senior</td>\n",
       "      <td>Expert</td>\n",
       "      <td>226600</td>\n",
       "      <td>United States Dollar</td>\n",
       "      <td>United States</td>\n",
       "      <td>226600</td>\n",
       "      <td>United States</td>\n",
       "      <td>Medium</td>\n",
       "      <td>2023</td>\n",
       "    </tr>\n",
       "    <tr>\n",
       "      <th>4</th>\n",
       "      <td>Machine Learning Engineer</td>\n",
       "      <td>Full-Time</td>\n",
       "      <td>Senior</td>\n",
       "      <td>Expert</td>\n",
       "      <td>140100</td>\n",
       "      <td>United States Dollar</td>\n",
       "      <td>United States</td>\n",
       "      <td>140100</td>\n",
       "      <td>United States</td>\n",
       "      <td>Medium</td>\n",
       "      <td>2023</td>\n",
       "    </tr>\n",
       "  </tbody>\n",
       "</table>\n",
       "</div>"
      ],
      "text/plain": [
       "                   Job Title Employment Type Experience Level Expertise Level  \\\n",
       "0         Staff Data Analyst        Contract            Entry          Junior   \n",
       "1                AI Engineer       Full-Time            Entry          Junior   \n",
       "2               AI Developer       Full-Time           Senior          Expert   \n",
       "3  Machine Learning Engineer       Full-Time           Senior          Expert   \n",
       "4  Machine Learning Engineer       Full-Time           Senior          Expert   \n",
       "\n",
       "   Salary       Salary Currency Company Location  Salary in USD  \\\n",
       "0   60000       Canadian Dollar           Canada          44753   \n",
       "1   35000  United States Dollar          Germany          35000   \n",
       "2   50000                  Euro            Italy          53984   \n",
       "3  226600  United States Dollar    United States         226600   \n",
       "4  140100  United States Dollar    United States         140100   \n",
       "\n",
       "  Employee Residence Company Size  Year  \n",
       "0             Canada        Large  2020  \n",
       "1            Croatia       Medium  2023  \n",
       "2              Italy        Small  2023  \n",
       "3      United States       Medium  2023  \n",
       "4      United States       Medium  2023  "
      ]
     },
     "execution_count": 14,
     "metadata": {},
     "output_type": "execute_result"
    }
   ],
   "source": [
    "datascience_df = pd.read_csv(\"Resources/v5_Latest_Data_Science_Salaries.csv\")\n",
    "datascience_df.head()"
   ]
  },
  {
   "cell_type": "code",
   "execution_count": 32,
   "metadata": {
    "scrolled": true
   },
   "outputs": [
    {
     "data": {
      "text/plain": [
       "Experience Level  Job Title                      \n",
       "Entry             Data Scientist                     69\n",
       "                  Data Analyst                       67\n",
       "                  Data Engineer                      44\n",
       "                  Machine Learning Engineer          20\n",
       "                  Research Scientist                 15\n",
       "                                                     ..\n",
       "Senior            Manager Data Management             1\n",
       "                  Principal Data Analyst              1\n",
       "                  Principal Data Architect            1\n",
       "                  Product Data Analyst                1\n",
       "                  Staff Machine Learning Engineer     1\n",
       "Name: Job Title, Length: 247, dtype: int64"
      ]
     },
     "execution_count": 32,
     "metadata": {},
     "output_type": "execute_result"
    }
   ],
   "source": [
    "datascience_df.groupby(\"Experience Level\")[\"Job Title\"].value_counts()"
   ]
  },
  {
   "cell_type": "code",
   "execution_count": 21,
   "metadata": {},
   "outputs": [
    {
     "data": {
      "text/plain": [
       "Job Title                        Employment Type  Experience Level  Expertise Level  Salary  Salary Currency         Company Location  Salary in USD  Employee Residence  Company Size  Year\n",
       "AI Architect                     Full-Time        Executive         Director         200000  Euro                    United States     215936         Belgium             Large         2023    1\n",
       "Data Scientist                   Full-Time        Senior            Expert           134024  United States Dollar    United States     134024         United States       Medium        2023    1\n",
       "                                                                                     135000  United States Dollar    United States     135000         United States       Large         2021    1\n",
       "                                                                                                                                                                          Medium        2022    1\n",
       "                                                                                                                                                                                        2023    1\n",
       "                                                                                                                                                                                               ..\n",
       "Data Engineer                    Full-Time        Mid               Intermediate     60400   United States Dollar    United States     60400          United States       Medium        2023    1\n",
       "                                                                                     61500   Euro                    France            70139          France              Large         2020    1\n",
       "                                                                                     62000   British Pound Sterling  United Kingdom    76284          United Kingdom      Medium        2023    1\n",
       "                                                                                             Euro                    France            65141          France              Medium        2022    1\n",
       "Staff Machine Learning Engineer  Full-Time        Senior            Expert           185000  United States Dollar    United States     185000         United States       Medium        2021    1\n",
       "Length: 3951, dtype: int64"
      ]
     },
     "execution_count": 21,
     "metadata": {},
     "output_type": "execute_result"
    }
   ],
   "source": [
    "datascience_df.value_counts()"
   ]
  }
 ],
 "metadata": {
  "kernelspec": {
   "display_name": "Python 3 (ipykernel)",
   "language": "python",
   "name": "python3"
  },
  "language_info": {
   "codemirror_mode": {
    "name": "ipython",
    "version": 3
   },
   "file_extension": ".py",
   "mimetype": "text/x-python",
   "name": "python",
   "nbconvert_exporter": "python",
   "pygments_lexer": "ipython3",
   "version": "3.11.4"
  }
 },
 "nbformat": 4,
 "nbformat_minor": 2
}
